{
 "cells": [
  {
   "cell_type": "markdown",
   "metadata": {},
   "source": [
    "### Question: The 7th Fibonacci number is 13, and its last digit is 3. What is the last digit of the 7777th Fibonacci number?"
   ]
  },
  {
   "cell_type": "markdown",
   "metadata": {},
   "source": [
    "#### TL;DR: 7"
   ]
  },
  {
   "cell_type": "markdown",
   "metadata": {},
   "source": [
    "#### Starting from ground zero..."
   ]
  },
  {
   "cell_type": "markdown",
   "metadata": {},
   "source": [
    "If we don't care about time and space complexity, this is a very easy question. We could just run a brute force algorithm: iteratively construct a list of the first 7777 numbers in the sequence, then return the last digit of the final element. This will be O(n) in time and space. This is an incredibly crude solution, but let's begin here as a starting point.\n",
    "\n",
    "Sidenote: it's sometimes ambiguous whether the Fibonacci sequence starts with 0 or 1, and for the purposes of this question, we need a definitive answer! Luckily, we're told in the problem statement that the 7th Fibonacci number is 13, so we can deduce that the sequence here starts with 1."
   ]
  },
  {
   "cell_type": "markdown",
   "metadata": {},
   "source": [
    "#### Simple ways to improve the algorithm..."
   ]
  },
  {
   "cell_type": "markdown",
   "metadata": {},
   "source": [
    "Firstly, we don't actually need to store every successive element. All we need to construct the next number is the two previous ones, so we just need two variables to keep track of this, not an entire list.\n",
    "\n",
    "Furthermore, we don't need to store the entire number either, just the last digit. Everything else is irrelevant to the question we're trying to answer. The last digit of a Fibonacci number only depends on the last digit of the two prior numbers - nothing else. Since the Fibonacci numbers grow roughly by a factor of 1.618 (The Golden Ratio), storing the entire number would actually be problematic for very large N.\n",
    "\n",
    "If we incorporate these improvements, we can really clean up the code and, more importantly, achieve constant space complexity. The algorithm is still O(n) in time, but 7777 is small enough where we'll be able to compute the answer."
   ]
  },
  {
   "cell_type": "markdown",
   "metadata": {},
   "source": [
    "#### Code for O(n) time, O(1) space"
   ]
  },
  {
   "cell_type": "code",
   "execution_count": 40,
   "metadata": {},
   "outputs": [],
   "source": [
    "# returns the last digit of the Nth Fibonacci number, with the sequence beginning 1, 1 ...\n",
    "def last_digit_a(N):\n",
    "    # a = two previous, b = one previous\n",
    "    a = 0\n",
    "    b = 1\n",
    "    for _ in range(N):\n",
    "        a, b = b, (a+b)%10\n",
    "    return a"
   ]
  },
  {
   "cell_type": "markdown",
   "metadata": {},
   "source": [
    "We can do a quick check with N=7, and we expect 3 (7th Fibonacci number is 13). We'll do more rigourous testing with this at the end of the notebook - don't worry."
   ]
  },
  {
   "cell_type": "code",
   "execution_count": 41,
   "metadata": {},
   "outputs": [
    {
     "data": {
      "text/plain": [
       "3"
      ]
     },
     "execution_count": 41,
     "metadata": {},
     "output_type": "execute_result"
    }
   ],
   "source": [
    "last_digit_a(7)"
   ]
  },
  {
   "cell_type": "markdown",
   "metadata": {},
   "source": [
    "Nice! Let's figure out what the 7777th Fibonacci number ends with."
   ]
  },
  {
   "cell_type": "code",
   "execution_count": 42,
   "metadata": {},
   "outputs": [
    {
     "data": {
      "text/plain": [
       "7"
      ]
     },
     "execution_count": 42,
     "metadata": {},
     "output_type": "execute_result"
    }
   ],
   "source": [
    "last_digit_a(7777)"
   ]
  },
  {
   "cell_type": "markdown",
   "metadata": {},
   "source": [
    "#### OK, so we have our answer. The last digit of the 7777th Fibonacci number is 7 - good enough, right!?"
   ]
  },
  {
   "cell_type": "markdown",
   "metadata": {},
   "source": [
    "Well, we were lucky here since we were only asked to compute the result for N=7777. But what if N was a lot bigger? What if we wanted to compute the result for the 10 quadrillionth Fibonacci number? O(n) time complexity won't suffice, we need to be better. But how? How can we arrive at the digit of the Nth number without calculating the intermediary results for every Fibonacci number in between?"
   ]
  },
  {
   "cell_type": "markdown",
   "metadata": {},
   "source": [
    "When I saw this problem, I was instantly reminded of an algorithm problem I solved in the past on LeetCode called \"Prison Cells after N Days\" - link [here](https://leetcode.com/problems/prison-cells-after-n-days/). A few months ago, I actually created a YouTube video to explain my solution for this problem, as a lot of users were finding it too cryptic and bewildering. You can check that video out [here](https://www.youtube.com/watch?v=-dOYJ_80bjQ).\n",
    "\n",
    "OK, enough shameless plugs. What's the connection? Well, both problems are asking us to find the Nth element of a sequence in constant time. Sounds a bit tough, but what if we knew that this sequence had a cycle? If this sequence began repeating itself, would we actually need to spend valuable time going through the cycle again and again and again? Turns out, if we use some sneaky hashing and modular math, we can determine the Nth value in the sequence **immediately** after we figure out that we're trapped in a cycle.\n",
    "\n",
    "This sounds OK, but how do we prove that this sequence will fall into a cycle? Lot's of sequences don't. Let's reformulate the sequence to be the following:\n",
    "\n",
    "Old Sequence (last digit of Fib numbers):\n",
    "\n",
    "`\n",
    "1\n",
    "1\n",
    "2\n",
    "3\n",
    "5\n",
    "8\n",
    "3 (from 13)\n",
    "1 (from 21)\n",
    "4 (from 34)\n",
    "5 (from 55)\n",
    "9 (from 89)\n",
    "4 (from 144)\n",
    "3 (from 233)\n",
    "...\n",
    "`\n",
    "\n",
    "New Sequence (last digit of Fib number and last digit of next Fib number):\n",
    "\n",
    "`\n",
    "(1, 1)\n",
    "(1, 2)\n",
    "(2, 3)\n",
    "(3, 5)\n",
    "(5, 8)\n",
    "(8, 3)\n",
    "(3, 1)\n",
    "(1, 4)\n",
    "(4, 5)\n",
    "(5, 9)\n",
    "(9, 4)\n",
    "(4, 3)\n",
    "...\n",
    "`\n",
    "\n",
    "Note that elements in our sequence are now 2-dimensional vectors, instead of scalars. You're probably wondering why we're introducing all this complicated math ... what's the point of all this?\n",
    "\n",
    "Look again at the new sequence. Two key observations:\n",
    "- Each element can only assume a finite number of states. We could list out all possibilities that an element in this sequence could assume.\n",
    "- Each element depends **only** on the prior element. If a given element is `(a,b)` the next element will be `(b, (a+b)%10)`. This is huge.\n",
    "\n",
    "This two properties combine to yield the following powerful result: this process is **cyclic**.\n",
    "\n",
    "\n"
   ]
  },
  {
   "cell_type": "markdown",
   "metadata": {},
   "source": [
    "#### But how can we leverage this to get O(1) time?"
   ]
  },
  {
   "cell_type": "markdown",
   "metadata": {},
   "source": [
    "Crude outline of the algorithm:\n",
    "\n",
    "- record each element (2D vector) in an ordered list\n",
    "- use a hashmap to connect each element we've seen to *the location where we first saw it*\n",
    "- if we get to an element that already exists in our hashmap, spit out the answer using `cycle_start_index + remaining_steps % cycle_length` as the index for the ordered list\n",
    "\n",
    "Note that both the list and hashmap are O(1) since there are a only a finite number of possible elements to store. The memory that these can consume is bounded and is thus O(1)."
   ]
  },
  {
   "cell_type": "markdown",
   "metadata": {},
   "source": [
    "#### Code for O(1) time, O(1) space ... very spicy"
   ]
  },
  {
   "cell_type": "code",
   "execution_count": 43,
   "metadata": {},
   "outputs": [],
   "source": [
    "# returns the last digit of the Nth Fibonacci number, with the sequence beginning 1, 1 ...\n",
    "def last_digit_b(N):\n",
    "    \n",
    "    # seed for the sequence\n",
    "    seq = [0, 1]\n",
    "    \n",
    "    # key   : (last digit of fib(n), last digit of fib(n+1))\n",
    "    # value : n\n",
    "    position = {}\n",
    "    \n",
    "    # list of all the states we see, ordered by when we see them\n",
    "    history = []\n",
    "\n",
    "    for i in range(N):\n",
    "        a, b = seq\n",
    "        key = (a, b) # convert to immutable type (tuple) so it's hashable\n",
    "        if key in position:\n",
    "            cycle_start = position[key]\n",
    "            cycle_length = i - cycle_start\n",
    "            index = cycle_start + (N-i)%cycle_length\n",
    "            return history[index]\n",
    "        position[key] = i\n",
    "        history.append(a)\n",
    "        seq = [b%10, (a+b)%10]\n",
    "        i += 1\n",
    "    \n",
    "    # happens if we get to the Nth element before we hit a cycle\n",
    "    return seq[0]%10\n",
    "    # might happen if N<100 (100 possible states)"
   ]
  },
  {
   "cell_type": "markdown",
   "metadata": {},
   "source": [
    "#### Let's verify that this algorithm works properly..."
   ]
  },
  {
   "cell_type": "markdown",
   "metadata": {},
   "source": [
    "To verify that this algorithm gives correct answers (and the first one we developed), let's build a crude (but dependable) algorithm that we can use to easily check answers for N <= 300."
   ]
  },
  {
   "cell_type": "code",
   "execution_count": 44,
   "metadata": {},
   "outputs": [],
   "source": [
    "fibonacci = [0, 1]\n",
    "for _ in range(300):\n",
    "    fibonacci.append(fibonacci[-2] + fibonacci[-1])"
   ]
  },
  {
   "cell_type": "code",
   "execution_count": 45,
   "metadata": {},
   "outputs": [
    {
     "name": "stdout",
     "output_type": "stream",
     "text": [
      "1-th Fib number is 1\n",
      "2-th Fib number is 1\n",
      "3-th Fib number is 2\n",
      "4-th Fib number is 3\n",
      "5-th Fib number is 5\n",
      "6-th Fib number is 8\n",
      "7-th Fib number is 13\n",
      "8-th Fib number is 21\n",
      "9-th Fib number is 34\n",
      "10-th Fib number is 55\n",
      "11-th Fib number is 89\n"
     ]
    }
   ],
   "source": [
    "# pardon the English\n",
    "for N in range(1, 12):\n",
    "    print(f'{N}-th Fib number is {fibonacci[N]}')"
   ]
  },
  {
   "cell_type": "code",
   "execution_count": 46,
   "metadata": {},
   "outputs": [
    {
     "name": "stdout",
     "output_type": "stream",
     "text": [
      "All good boss.\n"
     ]
    }
   ],
   "source": [
    "# values to test\n",
    "test_input = [1, 2, 3, 4, 5, 6, 100, 131, 170, 221, 227, 250, 254, 255, 266, 290]\n",
    "errors = 0\n",
    "\n",
    "for ti in test_input:\n",
    "    actual = fibonacci[ti]%10\n",
    "    alg_a = last_digit_a(ti)\n",
    "    alg_b = last_digit_b(ti)\n",
    "    if actual != alg_a:\n",
    "        print(f'Alg A error with input {ti} ... Actual: {actual}, Output: {alg_a}')\n",
    "        errors += 1\n",
    "    if actual != alg_b:\n",
    "        print(f'Alg B error with input {ti} ... Actual: {actual}, Output: {alg_b}')\n",
    "        errors += 1\n",
    "\n",
    "if errors == 0:\n",
    "    print('All good boss.')\n",
    "        "
   ]
  },
  {
   "cell_type": "markdown",
   "metadata": {},
   "source": [
    "#### Checking that we get the same value for N=7777."
   ]
  },
  {
   "cell_type": "code",
   "execution_count": 47,
   "metadata": {},
   "outputs": [
    {
     "data": {
      "text/plain": [
       "7"
      ]
     },
     "execution_count": 47,
     "metadata": {},
     "output_type": "execute_result"
    }
   ],
   "source": [
    "last_digit_b(7777)"
   ]
  },
  {
   "cell_type": "markdown",
   "metadata": {},
   "source": [
    "Yup."
   ]
  },
  {
   "cell_type": "markdown",
   "metadata": {},
   "source": [
    "#### Flexing the new algorithm because we can"
   ]
  },
  {
   "cell_type": "markdown",
   "metadata": {},
   "source": [
    "If anyone ever asks you what the last digit of the 239457293847572938475792384573984573948573948572943875th Fibonacci number is ..."
   ]
  },
  {
   "cell_type": "code",
   "execution_count": 48,
   "metadata": {},
   "outputs": [
    {
     "data": {
      "text/plain": [
       "5"
      ]
     },
     "execution_count": 48,
     "metadata": {},
     "output_type": "execute_result"
    }
   ],
   "source": [
    "last_digit_b(239457293847572938475792384573984573948573948572943875)"
   ]
  },
  {
   "cell_type": "markdown",
   "metadata": {},
   "source": [
    "Constant time algos are fun.\n",
    "\n",
    "Until next time, cheers.\n",
    "\n",
    "Cam\n"
   ]
  }
 ],
 "metadata": {
  "kernelspec": {
   "display_name": "Python 3",
   "language": "python",
   "name": "python3"
  },
  "language_info": {
   "codemirror_mode": {
    "name": "ipython",
    "version": 3
   },
   "file_extension": ".py",
   "mimetype": "text/x-python",
   "name": "python",
   "nbconvert_exporter": "python",
   "pygments_lexer": "ipython3",
   "version": "3.6.9"
  }
 },
 "nbformat": 4,
 "nbformat_minor": 4
}
